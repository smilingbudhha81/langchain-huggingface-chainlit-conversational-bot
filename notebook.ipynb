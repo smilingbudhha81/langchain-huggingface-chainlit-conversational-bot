{
 "cells": [
  {
   "cell_type": "code",
   "execution_count": 11,
   "id": "4fb5742c",
   "metadata": {},
   "outputs": [
    {
     "name": "stdout",
     "output_type": "stream",
     "text": [
      "2023-10-25 20:18:54 - Created default config file at C:\\Users\\VID\\OneDrive\\Desktop\\GIthub\\langchain\\langchain-huggingface-chainlit conversational bot\\.chainlit\\config.toml\n"
     ]
    },
    {
     "name": "stderr",
     "output_type": "stream",
     "text": [
      "Traceback (most recent call last):\n",
      "  File \"C:\\Users\\VID\\anaconda3\\lib\\runpy.py\", line 197, in _run_module_as_main\n",
      "    return _run_code(code, main_globals, None,\n",
      "  File \"C:\\Users\\VID\\anaconda3\\lib\\runpy.py\", line 87, in _run_code\n",
      "    exec(code, run_globals)\n",
      "  File \"C:\\Users\\VID\\anaconda3\\Scripts\\chainlit.exe\\__main__.py\", line 7, in <module>\n",
      "  File \"C:\\Users\\VID\\anaconda3\\lib\\site-packages\\click\\core.py\", line 1157, in __call__\n",
      "    return self.main(*args, **kwargs)\n",
      "  File \"C:\\Users\\VID\\anaconda3\\lib\\site-packages\\click\\core.py\", line 1078, in main\n",
      "    rv = self.invoke(ctx)\n",
      "  File \"C:\\Users\\VID\\anaconda3\\lib\\site-packages\\click\\core.py\", line 1688, in invoke\n",
      "    return _process_result(sub_ctx.command.invoke(sub_ctx))\n",
      "  File \"C:\\Users\\VID\\anaconda3\\lib\\site-packages\\click\\core.py\", line 1434, in invoke\n",
      "    return ctx.invoke(self.callback, **ctx.params)\n",
      "  File \"C:\\Users\\VID\\anaconda3\\lib\\site-packages\\click\\core.py\", line 783, in invoke\n",
      "    return __callback(*args, **kwargs)\n",
      "  File \"C:\\Users\\VID\\anaconda3\\lib\\site-packages\\chainlit\\cli\\__init__.py\", line 149, in chainlit_hello\n",
      "    trace_event(\"chainlit hello\")\n",
      "  File \"C:\\Users\\VID\\anaconda3\\lib\\site-packages\\chainlit\\telemetry.py\", line 93, in trace_event\n",
      "    with chainlit_telemetry.tracer.start_as_current_span(\n",
      "  File \"C:\\Users\\VID\\anaconda3\\lib\\site-packages\\chainlit\\telemetry.py\", line 83, in tracer\n",
      "    self._tracer = self.configure_tracer()\n",
      "  File \"C:\\Users\\VID\\anaconda3\\lib\\site-packages\\chainlit\\telemetry.py\", line 56, in configure_tracer\n",
      "    import uptrace\n",
      "  File \"C:\\Users\\VID\\anaconda3\\lib\\site-packages\\uptrace\\__init__.py\", line 4, in <module>\n",
      "    from .uptrace import (\n",
      "  File \"C:\\Users\\VID\\anaconda3\\lib\\site-packages\\uptrace\\uptrace.py\", line 11, in <module>\n",
      "    from .logs import configure_logs\n",
      "  File \"C:\\Users\\VID\\anaconda3\\lib\\site-packages\\uptrace\\logs.py\", line 3, in <module>\n",
      "    import grpc\n",
      "  File \"C:\\Users\\VID\\anaconda3\\lib\\site-packages\\grpc\\__init__.py\", line 22, in <module>\n",
      "    from grpc import _compression\n",
      "  File \"C:\\Users\\VID\\anaconda3\\lib\\site-packages\\grpc\\_compression.py\", line 15, in <module>\n",
      "    from grpc._cython import cygrpc\n",
      "ImportError: DLL load failed while importing cygrpc: The specified module could not be found.\n"
     ]
    }
   ],
   "source": [
    "!chainlit hello"
   ]
  },
  {
   "cell_type": "code",
   "execution_count": 1,
   "id": "e0cea357",
   "metadata": {},
   "outputs": [
    {
     "name": "stdout",
     "output_type": "stream",
     "text": [
      "Requirement already satisfied: huggingface_hub in c:\\users\\vid\\anaconda3\\lib\\site-packages (0.16.4)\n",
      "Requirement already satisfied: filelock in c:\\users\\vid\\anaconda3\\lib\\site-packages (from huggingface_hub) (3.9.0)\n",
      "Requirement already satisfied: fsspec in c:\\users\\vid\\anaconda3\\lib\\site-packages (from huggingface_hub) (2023.4.0)\n",
      "Requirement already satisfied: requests in c:\\users\\vid\\anaconda3\\lib\\site-packages (from huggingface_hub) (2.31.0)\n",
      "Requirement already satisfied: tqdm>=4.42.1 in c:\\users\\vid\\anaconda3\\lib\\site-packages (from huggingface_hub) (4.65.0)\n",
      "Requirement already satisfied: pyyaml>=5.1 in c:\\users\\vid\\anaconda3\\lib\\site-packages (from huggingface_hub) (6.0)\n",
      "Requirement already satisfied: typing-extensions>=3.7.4.3 in c:\\users\\vid\\anaconda3\\lib\\site-packages (from huggingface_hub) (4.7.1)\n",
      "Requirement already satisfied: packaging>=20.9 in c:\\users\\vid\\anaconda3\\lib\\site-packages (from huggingface_hub) (23.1)\n",
      "Requirement already satisfied: colorama in c:\\users\\vid\\anaconda3\\lib\\site-packages (from tqdm>=4.42.1->huggingface_hub) (0.4.6)\n",
      "Requirement already satisfied: charset-normalizer<4,>=2 in c:\\users\\vid\\anaconda3\\lib\\site-packages (from requests->huggingface_hub) (2.0.4)\n",
      "Requirement already satisfied: idna<4,>=2.5 in c:\\users\\vid\\anaconda3\\lib\\site-packages (from requests->huggingface_hub) (2.10)\n",
      "Requirement already satisfied: urllib3<3,>=1.21.1 in c:\\users\\vid\\anaconda3\\lib\\site-packages (from requests->huggingface_hub) (1.26.16)\n",
      "Requirement already satisfied: certifi>=2017.4.17 in c:\\users\\vid\\anaconda3\\lib\\site-packages (from requests->huggingface_hub) (2022.12.7)\n",
      "Requirement already satisfied: transformers in c:\\users\\vid\\anaconda3\\lib\\site-packages (4.34.0)\n",
      "Requirement already satisfied: filelock in c:\\users\\vid\\anaconda3\\lib\\site-packages (from transformers) (3.9.0)\n",
      "Requirement already satisfied: huggingface-hub<1.0,>=0.16.4 in c:\\users\\vid\\anaconda3\\lib\\site-packages (from transformers) (0.16.4)\n",
      "Requirement already satisfied: numpy>=1.17 in c:\\users\\vid\\anaconda3\\lib\\site-packages (from transformers) (1.24.3)\n",
      "Requirement already satisfied: packaging>=20.0 in c:\\users\\vid\\anaconda3\\lib\\site-packages (from transformers) (23.1)\n",
      "Requirement already satisfied: pyyaml>=5.1 in c:\\users\\vid\\anaconda3\\lib\\site-packages (from transformers) (6.0)\n",
      "Requirement already satisfied: regex!=2019.12.17 in c:\\users\\vid\\anaconda3\\lib\\site-packages (from transformers) (2022.7.9)\n",
      "Requirement already satisfied: requests in c:\\users\\vid\\anaconda3\\lib\\site-packages (from transformers) (2.31.0)\n",
      "Requirement already satisfied: tokenizers<0.15,>=0.14 in c:\\users\\vid\\anaconda3\\lib\\site-packages (from transformers) (0.14.0)\n",
      "Requirement already satisfied: safetensors>=0.3.1 in c:\\users\\vid\\anaconda3\\lib\\site-packages (from transformers) (0.3.2)\n",
      "Requirement already satisfied: tqdm>=4.27 in c:\\users\\vid\\anaconda3\\lib\\site-packages (from transformers) (4.65.0)\n",
      "Requirement already satisfied: fsspec in c:\\users\\vid\\anaconda3\\lib\\site-packages (from huggingface-hub<1.0,>=0.16.4->transformers) (2023.4.0)\n",
      "Requirement already satisfied: typing-extensions>=3.7.4.3 in c:\\users\\vid\\anaconda3\\lib\\site-packages (from huggingface-hub<1.0,>=0.16.4->transformers) (4.7.1)\n",
      "Requirement already satisfied: colorama in c:\\users\\vid\\anaconda3\\lib\\site-packages (from tqdm>=4.27->transformers) (0.4.6)\n",
      "Requirement already satisfied: charset-normalizer<4,>=2 in c:\\users\\vid\\anaconda3\\lib\\site-packages (from requests->transformers) (2.0.4)\n",
      "Requirement already satisfied: idna<4,>=2.5 in c:\\users\\vid\\anaconda3\\lib\\site-packages (from requests->transformers) (2.10)\n",
      "Requirement already satisfied: urllib3<3,>=1.21.1 in c:\\users\\vid\\anaconda3\\lib\\site-packages (from requests->transformers) (1.26.16)\n",
      "Requirement already satisfied: certifi>=2017.4.17 in c:\\users\\vid\\anaconda3\\lib\\site-packages (from requests->transformers) (2022.12.7)\n",
      "Requirement already satisfied: langchain in c:\\users\\vid\\anaconda3\\lib\\site-packages (0.0.321)\n",
      "Requirement already satisfied: PyYAML>=5.3 in c:\\users\\vid\\anaconda3\\lib\\site-packages (from langchain) (6.0)\n",
      "Requirement already satisfied: SQLAlchemy<3,>=1.4 in c:\\users\\vid\\anaconda3\\lib\\site-packages (from langchain) (2.0.21)\n",
      "Requirement already satisfied: aiohttp<4.0.0,>=3.8.3 in c:\\users\\vid\\anaconda3\\lib\\site-packages (from langchain) (3.8.5)\n",
      "Requirement already satisfied: anyio<4.0 in c:\\users\\vid\\anaconda3\\lib\\site-packages (from langchain) (3.5.0)\n",
      "Requirement already satisfied: async-timeout<5.0.0,>=4.0.0 in c:\\users\\vid\\anaconda3\\lib\\site-packages (from langchain) (4.0.2)\n",
      "Requirement already satisfied: dataclasses-json<0.7,>=0.5.7 in c:\\users\\vid\\anaconda3\\lib\\site-packages (from langchain) (0.5.14)\n",
      "Requirement already satisfied: jsonpatch<2.0,>=1.33 in c:\\users\\vid\\anaconda3\\lib\\site-packages (from langchain) (1.33)\n",
      "Requirement already satisfied: langsmith<0.1.0,>=0.0.43 in c:\\users\\vid\\anaconda3\\lib\\site-packages (from langchain) (0.0.49)\n",
      "Requirement already satisfied: numpy<2,>=1 in c:\\users\\vid\\anaconda3\\lib\\site-packages (from langchain) (1.24.3)\n",
      "Requirement already satisfied: pydantic<3,>=1 in c:\\users\\vid\\anaconda3\\lib\\site-packages (from langchain) (1.10.13)\n",
      "Requirement already satisfied: requests<3,>=2 in c:\\users\\vid\\anaconda3\\lib\\site-packages (from langchain) (2.31.0)\n",
      "Requirement already satisfied: tenacity<9.0.0,>=8.1.0 in c:\\users\\vid\\anaconda3\\lib\\site-packages (from langchain) (8.2.2)\n",
      "Requirement already satisfied: attrs>=17.3.0 in c:\\users\\vid\\anaconda3\\lib\\site-packages (from aiohttp<4.0.0,>=3.8.3->langchain) (23.1.0)\n",
      "Requirement already satisfied: charset-normalizer<4.0,>=2.0 in c:\\users\\vid\\anaconda3\\lib\\site-packages (from aiohttp<4.0.0,>=3.8.3->langchain) (2.0.4)\n",
      "Requirement already satisfied: multidict<7.0,>=4.5 in c:\\users\\vid\\anaconda3\\lib\\site-packages (from aiohttp<4.0.0,>=3.8.3->langchain) (6.0.2)\n",
      "Requirement already satisfied: yarl<2.0,>=1.0 in c:\\users\\vid\\anaconda3\\lib\\site-packages (from aiohttp<4.0.0,>=3.8.3->langchain) (1.8.1)\n",
      "Requirement already satisfied: frozenlist>=1.1.1 in c:\\users\\vid\\anaconda3\\lib\\site-packages (from aiohttp<4.0.0,>=3.8.3->langchain) (1.3.3)\n",
      "Requirement already satisfied: aiosignal>=1.1.2 in c:\\users\\vid\\anaconda3\\lib\\site-packages (from aiohttp<4.0.0,>=3.8.3->langchain) (1.2.0)\n",
      "Requirement already satisfied: idna>=2.8 in c:\\users\\vid\\anaconda3\\lib\\site-packages (from anyio<4.0->langchain) (2.10)\n",
      "Requirement already satisfied: sniffio>=1.1 in c:\\users\\vid\\anaconda3\\lib\\site-packages (from anyio<4.0->langchain) (1.2.0)\n",
      "Requirement already satisfied: marshmallow<4.0.0,>=3.18.0 in c:\\users\\vid\\anaconda3\\lib\\site-packages (from dataclasses-json<0.7,>=0.5.7->langchain) (3.20.1)\n",
      "Requirement already satisfied: typing-inspect<1,>=0.4.0 in c:\\users\\vid\\anaconda3\\lib\\site-packages (from dataclasses-json<0.7,>=0.5.7->langchain) (0.9.0)\n",
      "Requirement already satisfied: jsonpointer>=1.9 in c:\\users\\vid\\anaconda3\\lib\\site-packages (from jsonpatch<2.0,>=1.33->langchain) (2.4)\n",
      "Requirement already satisfied: typing-extensions>=4.2.0 in c:\\users\\vid\\anaconda3\\lib\\site-packages (from pydantic<3,>=1->langchain) (4.7.1)\n",
      "Requirement already satisfied: urllib3<3,>=1.21.1 in c:\\users\\vid\\anaconda3\\lib\\site-packages (from requests<3,>=2->langchain) (1.26.16)\n",
      "Requirement already satisfied: certifi>=2017.4.17 in c:\\users\\vid\\anaconda3\\lib\\site-packages (from requests<3,>=2->langchain) (2022.12.7)\n",
      "Requirement already satisfied: greenlet!=0.4.17 in c:\\users\\vid\\anaconda3\\lib\\site-packages (from SQLAlchemy<3,>=1.4->langchain) (2.0.1)\n",
      "Requirement already satisfied: packaging>=17.0 in c:\\users\\vid\\anaconda3\\lib\\site-packages (from marshmallow<4.0.0,>=3.18.0->dataclasses-json<0.7,>=0.5.7->langchain) (23.1)\n",
      "Requirement already satisfied: mypy-extensions>=0.3.0 in c:\\users\\vid\\anaconda3\\lib\\site-packages (from typing-inspect<1,>=0.4.0->dataclasses-json<0.7,>=0.5.7->langchain) (1.0.0)\n",
      "Requirement already satisfied: chainlit in c:\\users\\vid\\anaconda3\\lib\\site-packages (0.7.301)\n",
      "Requirement already satisfied: aiofiles<24.0.0,>=23.1.0 in c:\\users\\vid\\anaconda3\\lib\\site-packages (from chainlit) (23.2.1)\n",
      "Requirement already satisfied: aiohttp<4.0.0,>=3.8.4 in c:\\users\\vid\\anaconda3\\lib\\site-packages (from chainlit) (3.8.5)\n",
      "Requirement already satisfied: asyncer<0.0.3,>=0.0.2 in c:\\users\\vid\\anaconda3\\lib\\site-packages (from chainlit) (0.0.2)\n",
      "Requirement already satisfied: click<9.0.0,>=8.1.3 in c:\\users\\vid\\anaconda3\\lib\\site-packages (from chainlit) (8.1.7)\n",
      "Requirement already satisfied: dataclasses_json<0.6.0,>=0.5.7 in c:\\users\\vid\\anaconda3\\lib\\site-packages (from chainlit) (0.5.14)\n",
      "Requirement already satisfied: fastapi<0.101,>=0.100 in c:\\users\\vid\\anaconda3\\lib\\site-packages (from chainlit) (0.100.1)\n",
      "Requirement already satisfied: fastapi-socketio<0.0.11,>=0.0.10 in c:\\users\\vid\\anaconda3\\lib\\site-packages (from chainlit) (0.0.10)\n",
      "Requirement already satisfied: filetype<2.0.0,>=1.2.0 in c:\\users\\vid\\anaconda3\\lib\\site-packages (from chainlit) (1.2.0)\n",
      "Requirement already satisfied: lazify<0.5.0,>=0.4.0 in c:\\users\\vid\\anaconda3\\lib\\site-packages (from chainlit) (0.4.0)\n",
      "Requirement already satisfied: nest-asyncio<2.0.0,>=1.5.6 in c:\\users\\vid\\anaconda3\\lib\\site-packages (from chainlit) (1.5.6)\n",
      "Requirement already satisfied: packaging<24.0,>=23.1 in c:\\users\\vid\\anaconda3\\lib\\site-packages (from chainlit) (23.1)\n",
      "Requirement already satisfied: prisma<0.11.0,>=0.10.0 in c:\\users\\vid\\anaconda3\\lib\\site-packages (from chainlit) (0.10.0)\n",
      "Requirement already satisfied: pydantic<3,>=1 in c:\\users\\vid\\anaconda3\\lib\\site-packages (from chainlit) (1.10.13)\n",
      "Requirement already satisfied: pyjwt<3.0.0,>=2.8.0 in c:\\users\\vid\\anaconda3\\lib\\site-packages (from chainlit) (2.8.0)\n",
      "Requirement already satisfied: python-dotenv<2.0.0,>=1.0.0 in c:\\users\\vid\\anaconda3\\lib\\site-packages (from chainlit) (1.0.0)\n",
      "Requirement already satisfied: python-graphql-client<0.5.0,>=0.4.3 in c:\\users\\vid\\anaconda3\\lib\\site-packages (from chainlit) (0.4.3)\n",
      "Requirement already satisfied: python-multipart<0.0.7,>=0.0.6 in c:\\users\\vid\\anaconda3\\lib\\site-packages (from chainlit) (0.0.6)\n",
      "Requirement already satisfied: syncer<3.0.0,>=2.0.3 in c:\\users\\vid\\anaconda3\\lib\\site-packages (from chainlit) (2.0.3)\n",
      "Requirement already satisfied: tomli<3.0.0,>=2.0.1 in c:\\users\\vid\\anaconda3\\lib\\site-packages (from chainlit) (2.0.1)\n",
      "Requirement already satisfied: uptrace<2.0.0,>=1.18.0 in c:\\users\\vid\\anaconda3\\lib\\site-packages (from chainlit) (1.20.2)\n",
      "Requirement already satisfied: uvicorn<0.24.0,>=0.23.2 in c:\\users\\vid\\anaconda3\\lib\\site-packages (from chainlit) (0.23.2)\n",
      "Requirement already satisfied: watchfiles<0.21.0,>=0.20.0 in c:\\users\\vid\\anaconda3\\lib\\site-packages (from chainlit) (0.20.0)\n",
      "Requirement already satisfied: attrs>=17.3.0 in c:\\users\\vid\\anaconda3\\lib\\site-packages (from aiohttp<4.0.0,>=3.8.4->chainlit) (23.1.0)\n",
      "Requirement already satisfied: charset-normalizer<4.0,>=2.0 in c:\\users\\vid\\anaconda3\\lib\\site-packages (from aiohttp<4.0.0,>=3.8.4->chainlit) (2.0.4)\n",
      "Requirement already satisfied: multidict<7.0,>=4.5 in c:\\users\\vid\\anaconda3\\lib\\site-packages (from aiohttp<4.0.0,>=3.8.4->chainlit) (6.0.2)\n",
      "Requirement already satisfied: async-timeout<5.0,>=4.0.0a3 in c:\\users\\vid\\anaconda3\\lib\\site-packages (from aiohttp<4.0.0,>=3.8.4->chainlit) (4.0.2)\n",
      "Requirement already satisfied: yarl<2.0,>=1.0 in c:\\users\\vid\\anaconda3\\lib\\site-packages (from aiohttp<4.0.0,>=3.8.4->chainlit) (1.8.1)\n",
      "Requirement already satisfied: frozenlist>=1.1.1 in c:\\users\\vid\\anaconda3\\lib\\site-packages (from aiohttp<4.0.0,>=3.8.4->chainlit) (1.3.3)\n",
      "Requirement already satisfied: aiosignal>=1.1.2 in c:\\users\\vid\\anaconda3\\lib\\site-packages (from aiohttp<4.0.0,>=3.8.4->chainlit) (1.2.0)\n",
      "Requirement already satisfied: anyio<4.0.0,>=3.4.0 in c:\\users\\vid\\anaconda3\\lib\\site-packages (from asyncer<0.0.3,>=0.0.2->chainlit) (3.5.0)\n",
      "Requirement already satisfied: colorama in c:\\users\\vid\\anaconda3\\lib\\site-packages (from click<9.0.0,>=8.1.3->chainlit) (0.4.6)\n",
      "Requirement already satisfied: marshmallow<4.0.0,>=3.18.0 in c:\\users\\vid\\anaconda3\\lib\\site-packages (from dataclasses_json<0.6.0,>=0.5.7->chainlit) (3.20.1)\n",
      "Requirement already satisfied: typing-inspect<1,>=0.4.0 in c:\\users\\vid\\anaconda3\\lib\\site-packages (from dataclasses_json<0.6.0,>=0.5.7->chainlit) (0.9.0)\n",
      "Requirement already satisfied: starlette<0.28.0,>=0.27.0 in c:\\users\\vid\\anaconda3\\lib\\site-packages (from fastapi<0.101,>=0.100->chainlit) (0.27.0)\n",
      "Requirement already satisfied: typing-extensions>=4.5.0 in c:\\users\\vid\\anaconda3\\lib\\site-packages (from fastapi<0.101,>=0.100->chainlit) (4.7.1)\n",
      "Requirement already satisfied: python-socketio>=4.6.0 in c:\\users\\vid\\anaconda3\\lib\\site-packages (from fastapi-socketio<0.0.11,>=0.0.10->chainlit) (5.10.0)\n",
      "Requirement already satisfied: httpx>=0.19.0 in c:\\users\\vid\\anaconda3\\lib\\site-packages (from prisma<0.11.0,>=0.10.0->chainlit) (0.25.0)\n",
      "Requirement already satisfied: jinja2>=2.11.2 in c:\\users\\vid\\anaconda3\\lib\\site-packages (from prisma<0.11.0,>=0.10.0->chainlit) (3.1.2)\n",
      "Requirement already satisfied: tomlkit in c:\\users\\vid\\anaconda3\\lib\\site-packages (from prisma<0.11.0,>=0.10.0->chainlit) (0.11.1)\n",
      "Requirement already satisfied: nodeenv in c:\\users\\vid\\anaconda3\\lib\\site-packages (from prisma<0.11.0,>=0.10.0->chainlit) (1.8.0)\n",
      "Requirement already satisfied: requests~=2.0 in c:\\users\\vid\\anaconda3\\lib\\site-packages (from python-graphql-client<0.5.0,>=0.4.3->chainlit) (2.31.0)\n",
      "Requirement already satisfied: websockets>=5.0 in c:\\users\\vid\\anaconda3\\lib\\site-packages (from python-graphql-client<0.5.0,>=0.4.3->chainlit) (12.0)\n",
      "Requirement already satisfied: opentelemetry-api~=1.20 in c:\\users\\vid\\anaconda3\\lib\\site-packages (from uptrace<2.0.0,>=1.18.0->chainlit) (1.20.0)\n",
      "Requirement already satisfied: opentelemetry-exporter-otlp~=1.20 in c:\\users\\vid\\anaconda3\\lib\\site-packages (from uptrace<2.0.0,>=1.18.0->chainlit) (1.20.0)\n",
      "Requirement already satisfied: opentelemetry-instrumentation~=0.41b0 in c:\\users\\vid\\anaconda3\\lib\\site-packages (from uptrace<2.0.0,>=1.18.0->chainlit) (0.41b0)\n",
      "Requirement already satisfied: opentelemetry-sdk~=1.20 in c:\\users\\vid\\anaconda3\\lib\\site-packages (from uptrace<2.0.0,>=1.18.0->chainlit) (1.20.0)\n",
      "Requirement already satisfied: h11>=0.8 in c:\\users\\vid\\anaconda3\\lib\\site-packages (from uvicorn<0.24.0,>=0.23.2->chainlit) (0.14.0)\n",
      "Requirement already satisfied: idna>=2.8 in c:\\users\\vid\\anaconda3\\lib\\site-packages (from anyio<4.0.0,>=3.4.0->asyncer<0.0.3,>=0.0.2->chainlit) (2.10)\n",
      "Requirement already satisfied: sniffio>=1.1 in c:\\users\\vid\\anaconda3\\lib\\site-packages (from anyio<4.0.0,>=3.4.0->asyncer<0.0.3,>=0.0.2->chainlit) (1.2.0)\n",
      "Requirement already satisfied: certifi in c:\\users\\vid\\anaconda3\\lib\\site-packages (from httpx>=0.19.0->prisma<0.11.0,>=0.10.0->chainlit) (2022.12.7)\n",
      "Requirement already satisfied: httpcore<0.19.0,>=0.18.0 in c:\\users\\vid\\anaconda3\\lib\\site-packages (from httpx>=0.19.0->prisma<0.11.0,>=0.10.0->chainlit) (0.18.0)\n",
      "Requirement already satisfied: MarkupSafe>=2.0 in c:\\users\\vid\\anaconda3\\lib\\site-packages (from jinja2>=2.11.2->prisma<0.11.0,>=0.10.0->chainlit) (2.0.1)\n",
      "Requirement already satisfied: deprecated>=1.2.6 in c:\\users\\vid\\anaconda3\\lib\\site-packages (from opentelemetry-api~=1.20->uptrace<2.0.0,>=1.18.0->chainlit) (1.2.13)\n",
      "Requirement already satisfied: importlib-metadata<7.0,>=6.0 in c:\\users\\vid\\anaconda3\\lib\\site-packages (from opentelemetry-api~=1.20->uptrace<2.0.0,>=1.18.0->chainlit) (6.0.0)\n",
      "Requirement already satisfied: opentelemetry-exporter-otlp-proto-grpc==1.20.0 in c:\\users\\vid\\anaconda3\\lib\\site-packages (from opentelemetry-exporter-otlp~=1.20->uptrace<2.0.0,>=1.18.0->chainlit) (1.20.0)\n",
      "Requirement already satisfied: opentelemetry-exporter-otlp-proto-http==1.20.0 in c:\\users\\vid\\anaconda3\\lib\\site-packages (from opentelemetry-exporter-otlp~=1.20->uptrace<2.0.0,>=1.18.0->chainlit) (1.20.0)\n",
      "Requirement already satisfied: backoff<3.0.0,>=1.10.0 in c:\\users\\vid\\anaconda3\\lib\\site-packages (from opentelemetry-exporter-otlp-proto-grpc==1.20.0->opentelemetry-exporter-otlp~=1.20->uptrace<2.0.0,>=1.18.0->chainlit) (2.2.1)\n",
      "Requirement already satisfied: googleapis-common-protos~=1.52 in c:\\users\\vid\\anaconda3\\lib\\site-packages (from opentelemetry-exporter-otlp-proto-grpc==1.20.0->opentelemetry-exporter-otlp~=1.20->uptrace<2.0.0,>=1.18.0->chainlit) (1.53.0)\n",
      "Requirement already satisfied: grpcio<2.0.0,>=1.0.0 in c:\\users\\vid\\anaconda3\\lib\\site-packages (from opentelemetry-exporter-otlp-proto-grpc==1.20.0->opentelemetry-exporter-otlp~=1.20->uptrace<2.0.0,>=1.18.0->chainlit) (1.42.0)\n",
      "Requirement already satisfied: opentelemetry-exporter-otlp-proto-common==1.20.0 in c:\\users\\vid\\anaconda3\\lib\\site-packages (from opentelemetry-exporter-otlp-proto-grpc==1.20.0->opentelemetry-exporter-otlp~=1.20->uptrace<2.0.0,>=1.18.0->chainlit) (1.20.0)\n",
      "Requirement already satisfied: opentelemetry-proto==1.20.0 in c:\\users\\vid\\anaconda3\\lib\\site-packages (from opentelemetry-exporter-otlp-proto-grpc==1.20.0->opentelemetry-exporter-otlp~=1.20->uptrace<2.0.0,>=1.18.0->chainlit) (1.20.0)\n",
      "Requirement already satisfied: protobuf<5.0,>=3.19 in c:\\users\\vid\\anaconda3\\lib\\site-packages (from opentelemetry-proto==1.20.0->opentelemetry-exporter-otlp-proto-grpc==1.20.0->opentelemetry-exporter-otlp~=1.20->uptrace<2.0.0,>=1.18.0->chainlit) (3.19.6)\n",
      "Requirement already satisfied: setuptools>=16.0 in c:\\users\\vid\\anaconda3\\lib\\site-packages (from opentelemetry-instrumentation~=0.41b0->uptrace<2.0.0,>=1.18.0->chainlit) (68.0.0)\n",
      "Requirement already satisfied: wrapt<2.0.0,>=1.0.0 in c:\\users\\vid\\anaconda3\\lib\\site-packages (from opentelemetry-instrumentation~=0.41b0->uptrace<2.0.0,>=1.18.0->chainlit) (1.14.1)\n",
      "Requirement already satisfied: opentelemetry-semantic-conventions==0.41b0 in c:\\users\\vid\\anaconda3\\lib\\site-packages (from opentelemetry-sdk~=1.20->uptrace<2.0.0,>=1.18.0->chainlit) (0.41b0)\n",
      "Requirement already satisfied: bidict>=0.21.0 in c:\\users\\vid\\anaconda3\\lib\\site-packages (from python-socketio>=4.6.0->fastapi-socketio<0.0.11,>=0.0.10->chainlit) (0.22.1)\n",
      "Requirement already satisfied: python-engineio>=4.8.0 in c:\\users\\vid\\anaconda3\\lib\\site-packages (from python-socketio>=4.6.0->fastapi-socketio<0.0.11,>=0.0.10->chainlit) (4.8.0)\n",
      "Requirement already satisfied: urllib3<3,>=1.21.1 in c:\\users\\vid\\anaconda3\\lib\\site-packages (from requests~=2.0->python-graphql-client<0.5.0,>=0.4.3->chainlit) (1.26.16)\n",
      "Requirement already satisfied: mypy-extensions>=0.3.0 in c:\\users\\vid\\anaconda3\\lib\\site-packages (from typing-inspect<1,>=0.4.0->dataclasses_json<0.6.0,>=0.5.7->chainlit) (1.0.0)\n",
      "Requirement already satisfied: zipp>=0.5 in c:\\users\\vid\\anaconda3\\lib\\site-packages (from importlib-metadata<7.0,>=6.0->opentelemetry-api~=1.20->uptrace<2.0.0,>=1.18.0->chainlit) (3.11.0)\n",
      "Requirement already satisfied: simple-websocket>=0.10.0 in c:\\users\\vid\\anaconda3\\lib\\site-packages (from python-engineio>=4.8.0->python-socketio>=4.6.0->fastapi-socketio<0.0.11,>=0.0.10->chainlit) (1.0.0)\n",
      "Requirement already satisfied: six>=1.5.2 in c:\\users\\vid\\anaconda3\\lib\\site-packages (from grpcio<2.0.0,>=1.0.0->opentelemetry-exporter-otlp-proto-grpc==1.20.0->opentelemetry-exporter-otlp~=1.20->uptrace<2.0.0,>=1.18.0->chainlit) (1.16.0)\n",
      "Requirement already satisfied: wsproto in c:\\users\\vid\\anaconda3\\lib\\site-packages (from simple-websocket>=0.10.0->python-engineio>=4.8.0->python-socketio>=4.6.0->fastapi-socketio<0.0.11,>=0.0.10->chainlit) (1.2.0)\n"
     ]
    }
   ],
   "source": [
    "!pip install huggingface_hub\n",
    "!pip install transformers\n",
    "!pip install langchain\n",
    "!pip install chainlit"
   ]
  },
  {
   "cell_type": "code",
   "execution_count": 1,
   "id": "6149454c",
   "metadata": {},
   "outputs": [],
   "source": [
    "import langchain\n",
    "import os\n",
    "import getpass"
   ]
  },
  {
   "cell_type": "code",
   "execution_count": 2,
   "id": "14619dc3",
   "metadata": {},
   "outputs": [
    {
     "name": "stdout",
     "output_type": "stream",
     "text": [
      "········\n"
     ]
    }
   ],
   "source": [
    "from getpass import getpass\n",
    "HUGGINGFACEHUB_API_TOKEN = getpass()\n",
    "os.environ[\"HUGGINGFACEHUB_API_TOKEN\"]= HUGGINGFACEHUB_API_TOKEN"
   ]
  },
  {
   "cell_type": "code",
   "execution_count": 3,
   "id": "838e106d",
   "metadata": {},
   "outputs": [
    {
     "name": "stdout",
     "output_type": "stream",
     "text": [
      "\n",
      "import torch.nn.functional as F\n",
      "from\n"
     ]
    }
   ],
   "source": [
    "#modelling interface\n",
    "from langchain import HuggingFaceHub\n",
    "llm = HuggingFaceHub(repo_id='stabilityai/stablecode-completion-alpha-3b-4k')\n",
    "prompt= 'import torch\\nimport torch.nn as nn'\n",
    "completion = llm(prompt)\n",
    "\n",
    "print(completion)"
   ]
  },
  {
   "cell_type": "code",
   "execution_count": 4,
   "id": "b417e038",
   "metadata": {},
   "outputs": [
    {
     "data": {
      "text/plain": [
       "'Name a market leader that makes computers'"
      ]
     },
     "execution_count": 4,
     "metadata": {},
     "output_type": "execute_result"
    }
   ],
   "source": [
    "#prompts\n",
    "\n",
    "from langchain import PromptTemplate\n",
    "\n",
    "template =\"Name a market leader that makes {product}\"\n",
    "\n",
    "prompt = PromptTemplate(\n",
    "    input_variables =['product'],\n",
    "    template = template\n",
    ")\n",
    "\n",
    "prompt.format(product=\"computers\")"
   ]
  },
  {
   "cell_type": "code",
   "execution_count": 5,
   "id": "4c3b8f53",
   "metadata": {},
   "outputs": [
    {
     "data": {
      "text/plain": [
       "'\"write an email too yourHR stating about your reason of absence from office for 5 days. The email should not exceed 50 words and must contain a subject'"
      ]
     },
     "execution_count": 5,
     "metadata": {},
     "output_type": "execute_result"
    }
   ],
   "source": [
    "email_template =\"\"\"\"write an email too your{receiver_name} stating about your reason of absence from office for {x} days. The email should not exceed 50 words and must contain a subject\"\"\"\n",
    "prompt2 = PromptTemplate(\n",
    "    input_variables=['receiver_name','x'],\n",
    "    template=email_template\n",
    ")\n",
    "prompt2.format(receiver_name=\"HR\", x =5)"
   ]
  },
  {
   "cell_type": "code",
   "execution_count": 6,
   "id": "a19da64e",
   "metadata": {},
   "outputs": [
    {
     "data": {
      "text/plain": [
       "' line that states the reason of absence stating your name, date, how long you intend to miss'"
      ]
     },
     "execution_count": 6,
     "metadata": {},
     "output_type": "execute_result"
    }
   ],
   "source": [
    "#chains\n",
    "\n",
    "from langchain import LLMChain\n",
    "\n",
    "llm2 = HuggingFaceHub(repo_id='gpt2-large')\n",
    "chain = LLMChain(llm=llm2,\n",
    "                prompt=prompt2)\n",
    "\n",
    "chain.run(receiver_name =\"HR\",x=3)"
   ]
  },
  {
   "cell_type": "code",
   "execution_count": 10,
   "id": "ca11c31e",
   "metadata": {},
   "outputs": [
    {
     "name": "stdout",
     "output_type": "stream",
     "text": [
      "\n",
      "\n",
      "\u001b[1m> Entering new ConversationChain chain...\u001b[0m\n",
      "Prompt after formatting:\n",
      "\u001b[32;1m\u001b[1;3mThe following is a friendly conversation between a human and an AI. The AI is talkative and provides lots of specific details from its context. If the AI does not know the answer to a question, it truthfully says it does not know.\n",
      "\n",
      "Current conversation:\n",
      "\n",
      "Human: DO you know a good platforms to learn data science?\n",
      "AI:\u001b[0m\n",
      "\n",
      "\u001b[1m> Finished chain.\u001b[0m\n",
      "\n",
      "\n",
      "\u001b[1m> Entering new ConversationChain chain...\u001b[0m\n",
      "Prompt after formatting:\n",
      "\u001b[32;1m\u001b[1;3mThe following is a friendly conversation between a human and an AI. The AI is talkative and provides lots of specific details from its context. If the AI does not know the answer to a question, it truthfully says it does not know.\n",
      "\n",
      "Current conversation:\n",
      "Human: DO you know a good platforms to learn data science?\n",
      "AI:  I\n",
      "Human: Learners have bee supportive , lets talk to them\n",
      "AI:\u001b[0m\n",
      "\n",
      "\u001b[1m> Finished chain.\u001b[0m\n"
     ]
    },
    {
     "data": {
      "text/plain": [
       "' Do'"
      ]
     },
     "execution_count": 10,
     "metadata": {},
     "output_type": "execute_result"
    }
   ],
   "source": [
    "#memory\n",
    "from langchain import ConversationChain\n",
    "conversation = ConversationChain(llm=llm2, verbose=True)\n",
    "conversation.predict(input=\"DO you know a good platforms to learn data science?\")\n",
    "conversation.predict(input=\"Learners have bee supportive , lets talk to them\")\n"
   ]
  },
  {
   "cell_type": "code",
   "execution_count": 12,
   "id": "4c6408d3",
   "metadata": {},
   "outputs": [],
   "source": [
    "#setting conversational bots\n",
    "model_id = \"gpt2-medium\"#355m parameters\n",
    "conv_model = HuggingFaceHub(huggingfacehub_api_token= os.environ['HUGGINGFACEHUB_API_TOKEN'],\n",
    "                            repo_id= model_id,\n",
    "                            model_kwargs ={\"temperature\":0.8, \"max_new_tokens\":200})"
   ]
  },
  {
   "cell_type": "code",
   "execution_count": 13,
   "id": "a6859ce0",
   "metadata": {},
   "outputs": [],
   "source": [
    "template = \"\"\"You are helpful AI assistant that makes stories by completing the query provided by the user\n",
    "{query}\n",
    "\"\"\"\n",
    "prompt= PromptTemplate(template=template, input_variables=['query'])"
   ]
  },
  {
   "cell_type": "code",
   "execution_count": 14,
   "id": "36827ba0",
   "metadata": {},
   "outputs": [],
   "source": [
    "conv_chain = LLMChain(llm=conv_model,\n",
    "                     prompt=prompt,\n",
    "                     verbose = True)"
   ]
  },
  {
   "cell_type": "code",
   "execution_count": 15,
   "id": "f45ef091",
   "metadata": {},
   "outputs": [
    {
     "name": "stdout",
     "output_type": "stream",
     "text": [
      "\n",
      "\n",
      "\u001b[1m> Entering new LLMChain chain...\u001b[0m\n",
      "Prompt after formatting:\n",
      "\u001b[32;1m\u001b[1;3mYou are helpful AI assistant that makes stories by completing the query provided by the user\n",
      "Once upon a time in 1947\n",
      "\u001b[0m\n",
      "\n",
      "\u001b[1m> Finished chain.\u001b[0m\n",
      "Bengaluru, India : An author named J.K. Ramachandran published his book \"Nir Ghat\" in 1952. In this book, he explained that God's will is to create a single symbolic voice (a sound that can be understood in any language, regardless of its cultural context) to guide humanity. \n",
      "On April 25, 1954, Bengaluru, India was named a UNESCO World Heritage Site. This was the same day that the first-ever scientific study of the ancient Indian language was conducted by  Prof. G.S. Kalyan - one of the most eminent linguists of his time. \n",
      "Kalyan wrote: \"To develop a language, one must first make an attempt to understand all the different elements required to represent the language as a whole.  It is this effort that is the essence of linguistics.\" ( Kalyan, S.A. \"Nir Ghat\", 1954\n"
     ]
    }
   ],
   "source": [
    "print(conv_chain.run(\"Once upon a time in 1947\"))"
   ]
  },
  {
   "cell_type": "code",
   "execution_count": null,
   "id": "8d8c2485",
   "metadata": {},
   "outputs": [],
   "source": []
  }
 ],
 "metadata": {
  "kernelspec": {
   "display_name": "Python 3 (ipykernel)",
   "language": "python",
   "name": "python3"
  },
  "language_info": {
   "codemirror_mode": {
    "name": "ipython",
    "version": 3
   },
   "file_extension": ".py",
   "mimetype": "text/x-python",
   "name": "python",
   "nbconvert_exporter": "python",
   "pygments_lexer": "ipython3",
   "version": "3.9.18"
  }
 },
 "nbformat": 4,
 "nbformat_minor": 5
}
